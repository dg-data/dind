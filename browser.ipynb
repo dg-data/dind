{
 "cells": [
  {
   "cell_type": "code",
   "execution_count": 2,
   "id": "62974f73-7536-4208-b3c6-e368e03d49fd",
   "metadata": {
    "tags": []
   },
   "outputs": [],
   "source": [
    "import os\n",
    "import json\n",
    "from ipytree import Node, Tree\n",
    "from traitlets import Unicode\n",
    "from ipylab import JupyterFrontEnd, Panel\n",
    "from ipywidgets import Button, Layout, HBox, VBox\n",
    "# from fnmatch import fnmatch\n",
    "# from pathlib import PurePath"
   ]
  },
  {
   "cell_type": "code",
   "execution_count": 3,
   "id": "8ad8dd1d-a1dd-4ef4-97df-a2d23a1ed678",
   "metadata": {
    "tags": []
   },
   "outputs": [
    {
     "name": "stdout",
     "output_type": "stream",
     "text": [
      "{'https://github.com/dg-data/binder-env': {'app-global.ipynb': {}, 'dill.ipynb': {}, 'scrape (3).ipynb': {}, 'scrape.ipynb': {}, 'thread.ipynb': {}}, 'https://github.com/dg-data/dockernels': {'binderupload.ipynb': {}, 'dill.ipynb': {}}, 'https://github.com/dg-data/ner-env': {'NERmap.ipynb': {}}, 'https://github.com/jupyterlab/jupyterlab-plugin-playground': {'Untitled.ipynb': {}}, 'https://github.com/likethebourbon/editing-workflow': {'editing-workflow.ipynb': {}}, 'https://github.com/psychemedia/selenium-demoscraper': {'Firefox demo.ipynb': {}, 'Untitled.ipynb': {}}, 'https://github.com/rcmlz/edu-binder-env': {'pygame.ipynb': {}}}\n"
     ]
    }
   ],
   "source": [
    "def dexiedict(db):\n",
    "    d = {}\n",
    "    for i in range(len(db)):\n",
    "        repo = db[i]['repoid']\n",
    "        namedict = {db[i]['name']:{}}\n",
    "        if repo in d:\n",
    "            d[repo].update(namedict)\n",
    "        else:\n",
    "            d[repo] = namedict\n",
    "    return d\n",
    "\n",
    "# print(dexiedict(dexie))"
   ]
  },
  {
   "cell_type": "code",
   "execution_count": 4,
   "id": "1dc52bea-18bc-4493-b3d5-5c9f8fb1360c",
   "metadata": {
    "tags": []
   },
   "outputs": [],
   "source": [
    "class TreeNode(Node):\n",
    "    repo = Unicode(\"\").tag(sync=True)"
   ]
  },
  {
   "cell_type": "code",
   "execution_count": 5,
   "id": "5a6e9a58-00ad-4a76-88ac-04eb0ee6dbe2",
   "metadata": {
    "tags": []
   },
   "outputs": [],
   "source": [
    "def create_tree_widget(root, path, depth=0):\n",
    "    node = Tree() if depth == 0 else TreeNode()\n",
    "    for name, children in root.items():\n",
    "        if len(children) == 0:\n",
    "            leaf = TreeNode(name)\n",
    "            leaf.repo = path\n",
    "            leaf.icon = 'file'\n",
    "            leaf.icon_style = 'warning'\n",
    "            node.add_node(leaf)\n",
    "        else:\n",
    "            subtree = create_tree_widget(children, name, depth + 1)\n",
    "            subtree.icon = 'folder'\n",
    "            subtree.icon_style = 'info'\n",
    "            subtree.name = name\n",
    "            node.add_node(subtree)\n",
    "    return node"
   ]
  },
  {
   "cell_type": "code",
   "execution_count": 6,
   "id": "588eef89-ff9c-42af-ace0-f6eba812c375",
   "metadata": {
    "tags": []
   },
   "outputs": [],
   "source": [
    "dexie = json.load(open('browser.json',))\n",
    "file_tree = create_tree_widget(dexiedict(dexie), '')\n",
    "# file_tree"
   ]
  },
  {
   "cell_type": "code",
   "execution_count": 20,
   "id": "857daf51-625d-4744-8016-23fecf2f423b",
   "metadata": {
    "tags": []
   },
   "outputs": [],
   "source": [
    "app = JupyterFrontEnd()\n",
    "open_button = Button(description='Open', button_style='success', icon='folder')\n",
    "expand_button = Button(description='Expand', button_style='info', icon='chevron-down')\n",
    "collapse_button = Button(description='Collapse', button_style='info', icon='chevron-right')\n",
    "buttonbox = HBox([open_button, expand_button, collapse_button], layout=Layout(overflow='unset'))\n"
   ]
  },
  {
   "cell_type": "code",
   "execution_count": 10,
   "id": "3e9bc5ae-7e05-4cf7-8f97-ea3c84b3be1b",
   "metadata": {
    "tags": []
   },
   "outputs": [],
   "source": [
    "def expand_tree(tree, expand=True):\n",
    "    for node in tree.nodes:\n",
    "        node.opened = expand\n",
    "\n",
    "def on_expand_click(b):\n",
    "    expand_tree(file_tree)\n",
    "        \n",
    "def on_collapse_click(b):\n",
    "    expand_tree(file_tree, False)\n",
    "\n",
    "expand_button.on_click(on_expand_click)\n",
    "collapse_button.on_click(on_collapse_click)"
   ]
  },
  {
   "cell_type": "code",
   "execution_count": 19,
   "id": "34044601-3c71-4eb0-a253-3f4855785042",
   "metadata": {},
   "outputs": [],
   "source": [
    "def on_open_clicked(b):\n",
    "    for node in file_tree.selected_nodes:\n",
    "        for row in dexie:\n",
    "            # ['repoid']\n",
    "            repo = row.split('id:')[1].split(' ')[0]\n",
    "            # ['name']\n",
    "            if repo == node.repo and node.name == row.split(' path:')[1]:\n",
    "                app.commands.execute('my:load-from-browser', {'pk': row})\n",
    "\n",
    "open_button.on_click(on_open_clicked)"
   ]
  },
  {
   "cell_type": "code",
   "execution_count": 12,
   "id": "3b13f2a3-c4fb-4be6-8a11-9c99b3738ed3",
   "metadata": {
    "tags": []
   },
   "outputs": [],
   "source": [
    "panel = Panel(children=[buttonbox, file_tree])\n",
    "panel.title.label = 'IndexedDB Browser'\n",
    "panel.title.icon_class = 'jp-FileIcon'\n",
    "panel.layout = Layout(overflow='auto')\n",
    "expand_tree(file_tree, True)\n",
    "file_tree.layout = Layout(overflow='auto')"
   ]
  },
  {
   "cell_type": "code",
   "execution_count": 14,
   "id": "af59eba8-6d6e-4782-8f1d-61ce51d84ffa",
   "metadata": {
    "tags": []
   },
   "outputs": [],
   "source": [
    "app.shell.add(panel, 'left', {'rank': 10000})"
   ]
  },
  {
   "cell_type": "code",
   "execution_count": 23,
   "id": "8ac9b306-565f-4b94-a804-ab351e756034",
   "metadata": {
    "tags": []
   },
   "outputs": [],
   "source": [
    "\"\"\"\n",
    "def collect_files(root_path='..'):\n",
    "    files = []\n",
    "    for dirpath, dirnames, filenames in os.walk(root_path, followlinks=True):\n",
    "        dirnames[:] = [d for d in dirnames] # if d not in EXCLUDES]\n",
    "        for f in filenames:\n",
    "            fullpath = PurePath(dirpath).relative_to(root_path).joinpath(f)\n",
    "            if fullpath.parts not in files:\n",
    "                files.append(fullpath.parts)\n",
    "    files.sort()\n",
    "    return files\n",
    "\n",
    "files = collect_files()\n",
    "tree = {}\n",
    "for f in files:\n",
    "    node = tree\n",
    "    for part in f:\n",
    "        if part not in node:\n",
    "            node[part] = {}\n",
    "        node = node[part]\n",
    "files\n",
    "\"\"\""
   ]
  }
 ],
 "metadata": {
  "kernelspec": {
   "display_name": "Python 3 (ipykernel)",
   "language": "python",
   "name": "python3"
  },
  "language_info": {
   "codemirror_mode": {
    "name": "ipython",
    "version": 3
   },
   "file_extension": ".py",
   "mimetype": "text/x-python",
   "name": "python",
   "nbconvert_exporter": "python",
   "pygments_lexer": "ipython3",
   "version": "3.10.6"
  }
 },
 "nbformat": 4,
 "nbformat_minor": 5
}
